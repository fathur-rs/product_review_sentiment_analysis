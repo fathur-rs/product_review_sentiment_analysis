{
 "cells": [
  {
   "cell_type": "markdown",
   "metadata": {},
   "source": [
    "CLASSES"
   ]
  },
  {
   "cell_type": "code",
   "execution_count": 39,
   "metadata": {},
   "outputs": [],
   "source": [
    "class Reviews:\n",
    "    def __init__(self, text ,score, sentiment):\n",
    "        self.text = text\n",
    "        self.score = score\n",
    "        self.sentiment = sentiment\n",
    "\n",
    "    def get_sentiment(self):\n",
    "        if self.score <= 2:\n",
    "            return self.sentiment\n",
    "        elif self.score == 3:\n",
    "            return self.sentiment\n",
    "        else: \n",
    "            return self.sentiment"
   ]
  },
  {
   "cell_type": "markdown",
   "metadata": {},
   "source": [
    "LOAD DATA"
   ]
  },
  {
   "cell_type": "code",
   "execution_count": 40,
   "metadata": {},
   "outputs": [],
   "source": [
    "import json\n",
    "import random\n",
    "\n",
    "file = r\"C:\\Users\\fathu\\Documents\\Sentiment Analysis Data\\database.json\"\n",
    "reviews = []\n",
    "\n",
    "with open(file) as f:\n",
    "    for line in f:\n",
    "        review = json.loads(line)\n",
    "        reviews.append(Reviews(review['reviewText'], review['overall'] ,review['sentiment']))\n",
    "\n",
    "negative = list(filter(lambda x: x.sentiment == 'NEGATIVE', reviews))\n",
    "positive = list(filter(lambda x: x.sentiment == 'POSITIVE', reviews))\n",
    "data = negative + positive\n",
    "random.shuffle(data)"
   ]
  },
  {
   "cell_type": "markdown",
   "metadata": {},
   "source": [
    "DATA PREP"
   ]
  },
  {
   "cell_type": "code",
   "execution_count": 41,
   "metadata": {},
   "outputs": [
    {
     "data": {
      "application/javascript": "\n        if (window._pyforest_update_imports_cell) { window._pyforest_update_imports_cell('import pandas as pd\\nimport numpy as np'); }\n    ",
      "text/plain": [
       "<IPython.core.display.Javascript object>"
      ]
     },
     "metadata": {},
     "output_type": "display_data"
    },
    {
     "data": {
      "application/javascript": "\n        if (window._pyforest_update_imports_cell) { window._pyforest_update_imports_cell('import pandas as pd\\nimport numpy as np'); }\n    ",
      "text/plain": [
       "<IPython.core.display.Javascript object>"
      ]
     },
     "metadata": {},
     "output_type": "display_data"
    }
   ],
   "source": [
    "import re\n",
    "import string\n",
    "\n",
    "X = [x.text for x in data]\n",
    "\n",
    "df = pd.DataFrame({'text':X})\n",
    "\n",
    "def text_cleaning(text):\n",
    "    text = text.lower()\n",
    "    text = re.sub('\\[.*>\\]', '', text)\n",
    "    text = re.sub('[%s]' % re.escape(string.punctuation), '', text)\n",
    "    text = re.sub('\\w*\\d\\w*', '', text)\n",
    "    return text\n",
    "\n",
    "cleaned = lambda x: text_cleaning(x)\n",
    "df['cleaned_text'] = pd.DataFrame(df['text'].apply(cleaned))"
   ]
  },
  {
   "cell_type": "code",
   "execution_count": 42,
   "metadata": {},
   "outputs": [],
   "source": [
    "from sklearn.model_selection import train_test_split\n",
    "from sklearn.model_selection import cross_val_score\n",
    "\n",
    "x = df['cleaned_text'].values.tolist()\n",
    "y = [x.get_sentiment() for x in data]\n",
    "\n",
    "X_train, X_test, y_train, y_test = train_test_split(x, y, test_size=0.3, random_state=42)\n"
   ]
  },
  {
   "cell_type": "markdown",
   "metadata": {},
   "source": [
    "MODELING"
   ]
  },
  {
   "cell_type": "code",
   "execution_count": 43,
   "metadata": {},
   "outputs": [
    {
     "name": "stdout",
     "output_type": "stream",
     "text": [
      "im not a teenager or a little kid but i love games like this you dont have to worry about running out of lives on this game its always something to do on your farm i love this one better than the other farm game im playing the only thing is you have to add people you dont know to your facebook page to have neighbors and it force closes all of a sudden now but i still play  \n",
      "[[0. 0. 0. ... 0. 0. 0.]]\n"
     ]
    }
   ],
   "source": [
    "from sklearn.feature_extraction.text import TfidfVectorizer\n",
    "\n",
    "vectorizer = TfidfVectorizer()\n",
    "train_x_vectors = vectorizer.fit_transform(X_train)\n",
    "\n",
    "test_x_vectors = vectorizer.transform(X_test)\n",
    "\n",
    "print(X_train[0])\n",
    "print(train_x_vectors[0].toarray())"
   ]
  },
  {
   "cell_type": "markdown",
   "metadata": {},
   "source": [
    "PIPELINE "
   ]
  },
  {
   "cell_type": "code",
   "execution_count": 48,
   "metadata": {},
   "outputs": [
    {
     "data": {
      "application/javascript": "\n        if (window._pyforest_update_imports_cell) { window._pyforest_update_imports_cell('import pandas as pd\\nimport numpy as np'); }\n    ",
      "text/plain": [
       "<IPython.core.display.Javascript object>"
      ]
     },
     "metadata": {},
     "output_type": "display_data"
    },
    {
     "name": "stderr",
     "output_type": "stream",
     "text": [
      "C:\\Users\\fathu\\AppData\\Local\\Packages\\PythonSoftwareFoundation.Python.3.9_qbz5n2kfra8p0\\LocalCache\\local-packages\\Python39\\site-packages\\sklearn\\model_selection\\_search.py:922: UserWarning: One or more of the test scores are non-finite: [0.85762297 0.86119869 0.84031749 0.86248584 0.83416741 0.86248584\n",
      " 0.82680127 0.86248584 0.82293974 0.86248584 0.6172763  0.65088663\n",
      " 0.67198196 0.68349514 0.69779858 0.70580711 0.61420158 0.64151827\n",
      " 0.66490292 0.67605904 0.67891881 0.69300684        nan 0.85612185\n",
      "        nan 0.86105563        nan 0.85819509        nan 0.85290315\n",
      "        nan 0.84796888        nan 0.84389278        nan 0.84096081\n",
      "        nan 0.83995984        nan 0.83852953        nan 0.83802881]\n",
      "  warnings.warn(\n"
     ]
    },
    {
     "name": "stdout",
     "output_type": "stream",
     "text": [
      "best models Pipeline(steps=[('classifier', SVC(C=4))])\n",
      "the mean accuracy: 0.8763763763763763\n",
      "              precision    recall  f1-score   support\n",
      "\n",
      "    NEGATIVE       0.87      0.88      0.88      2962\n",
      "    POSITIVE       0.88      0.87      0.88      3032\n",
      "\n",
      "    accuracy                           0.88      5994\n",
      "   macro avg       0.88      0.88      0.88      5994\n",
      "weighted avg       0.88      0.88      0.88      5994\n",
      "\n"
     ]
    }
   ],
   "source": [
    "from sklearn.tree import DecisionTreeClassifier\n",
    "from sklearn.metrics import classification_report\n",
    "from sklearn.linear_model import LogisticRegression\n",
    "\n",
    "svc = svm.SVC()\n",
    "pipe = Pipeline([(\"classifier\", svc)])\n",
    "\n",
    "\n",
    "params = [\n",
    "    {\"classifier\": [svc],\n",
    "    \"classifier__kernel\": ['linear', 'rbf'],\n",
    "    \"classifier__C\": [1,4,8,16,32]\n",
    "    },\n",
    "    {\"classifier\": [DecisionTreeClassifier()],\n",
    "    \"classifier__criterion\": ['gini', 'entropy'],\n",
    "    \"classifier__max_depth\": [2,4,6,8,10,12]\n",
    "    },\n",
    "    {\"classifier\": [LogisticRegression()],\n",
    "    \"classifier__penalty\": ['l1', 'l2'],\n",
    "    \"classifier__C\": np.logspace(0, 4, 10)\n",
    "    }\n",
    "]\n",
    "\n",
    "gridsearch = GridSearchCV(pipe, params, cv = 5, verbose=0, n_jobs=-1)\n",
    "best_model = gridsearch.fit(train_x_vectors, y_train)\n",
    "\n",
    "print(f'best models {best_model.best_estimator_}')\n",
    "print(\"the mean accuracy:\", best_model.score(test_x_vectors, y_test))\n",
    "print(classification_report(y_test,best_model.best_estimator_.predict(test_x_vectors)))"
   ]
  },
  {
   "cell_type": "code",
   "execution_count": null,
   "metadata": {},
   "outputs": [],
   "source": []
  }
 ],
 "metadata": {
  "interpreter": {
   "hash": "42af8fc72df09895d8fa0abc08bbacec0328e41a9be9da013dc1ad879d313737"
  },
  "kernelspec": {
   "display_name": "Python 3.9.7 64-bit (windows store)",
   "language": "python",
   "name": "python3"
  },
  "language_info": {
   "codemirror_mode": {
    "name": "ipython",
    "version": 3
   },
   "file_extension": ".py",
   "mimetype": "text/x-python",
   "name": "python",
   "nbconvert_exporter": "python",
   "pygments_lexer": "ipython3",
   "version": "3.9.7"
  },
  "orig_nbformat": 4
 },
 "nbformat": 4,
 "nbformat_minor": 2
}
